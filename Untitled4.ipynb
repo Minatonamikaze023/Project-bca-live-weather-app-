{
  "nbformat": 4,
  "nbformat_minor": 0,
  "metadata": {
    "colab": {
      "provenance": [],
      "authorship_tag": "ABX9TyMcPg9pxYFm4zS502CPI8X5",
      "include_colab_link": true
    },
    "kernelspec": {
      "name": "python3",
      "display_name": "Python 3"
    },
    "language_info": {
      "name": "python"
    }
  },
  "cells": [
    {
      "cell_type": "markdown",
      "metadata": {
        "id": "view-in-github",
        "colab_type": "text"
      },
      "source": [
        "<a href=\"https://colab.research.google.com/github/Minatonamikaze023/Project-bca-live-weather-app-/blob/main/Untitled4.ipynb\" target=\"_parent\"><img src=\"https://colab.research.google.com/assets/colab-badge.svg\" alt=\"Open In Colab\"/></a>"
      ]
    },
    {
      "cell_type": "code",
      "execution_count": 1,
      "metadata": {
        "colab": {
          "base_uri": "https://localhost:8080/"
        },
        "id": "TjgzyERUE0yb",
        "outputId": "31c5ea04-24ff-46d2-f741-58cbb6505f57"
      },
      "outputs": [
        {
          "output_type": "stream",
          "name": "stdout",
          "text": [
            "Temperature: 25.62°C\n",
            "Description: Overcast clouds\n"
          ]
        }
      ],
      "source": [
        "\n",
        "import requests\n",
        "\n",
        "def get_weather(api_key, city_name):\n",
        "    base_url = \"http://api.openweathermap.org/data/2.5/weather\"\n",
        "    params = {\"q\": city_name, \"appid\": api_key, \"units\": \"metric\"}  # You can change the units if you prefer imperial\n",
        "\n",
        "    try:\n",
        "        response = requests.get(base_url, params=params)\n",
        "        data = response.json()\n",
        "\n",
        "        if response.status_code == 200:\n",
        "            temperature = data[\"main\"][\"temp\"]\n",
        "            description = data[\"weather\"][0][\"description\"]\n",
        "            return f\"Temperature: {temperature}°C\\nDescription: {description.capitalize()}\"\n",
        "        else:\n",
        "            return f\"Error: {data['message']}\"\n",
        "\n",
        "    except Exception as e:\n",
        "        return f\"Error: {str(e)}\"\n",
        "\n",
        "# Replace 'YOUR_API_KEY' with the actual API key you obtained from OpenWeatherMap\n",
        "api_key = \"73851b2e93b71bbb572a8a704859e96b\"\n",
        "city_name = \"Chennai, IN\"  # e.g., \"London, UK\"\n",
        "\n",
        "result = get_weather(api_key, city_name)\n",
        "print(result)"
      ]
    }
  ]
}